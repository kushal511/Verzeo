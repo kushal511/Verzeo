{
  "cells": [
    {
      "cell_type": "code",
      "execution_count": null,
      "metadata": {
        "id": "grrLUBVg5qli",
        "outputId": "978ad9cd-a66a-41ce-90f0-66b9f31c7e36"
      },
      "outputs": [
        {
          "name": "stdout",
          "output_type": "stream",
          "text": [
            "Requirement already satisfied: SpeechRecognition in c:\\users\\apsis\\anaconda3\\lib\\site-packages (3.8.1)\n"
          ]
        }
      ],
      "source": [
        "! pip install SpeechRecognition"
      ]
    },
    {
      "cell_type": "code",
      "execution_count": null,
      "metadata": {
        "id": "8o0TME3B5qll",
        "outputId": "b061f1be-851c-4a8d-a019-ef7ba087748a"
      },
      "outputs": [
        {
          "name": "stdout",
          "output_type": "stream",
          "text": [
            "Collecting package metadata (current_repodata.json): ...working... done\n",
            "Solving environment: ...working... done\n",
            "\n",
            "# All requested packages already installed.\n",
            "\n",
            "\n",
            "Note: you may need to restart the kernel to use updated packages.\n"
          ]
        }
      ],
      "source": [
        "conda install -c anaconda pyaudio"
      ]
    },
    {
      "cell_type": "code",
      "execution_count": null,
      "metadata": {
        "id": "3eSj5zRh5qlm"
      },
      "outputs": [],
      "source": [
        "import speech_recognition as s"
      ]
    },
    {
      "cell_type": "code",
      "execution_count": null,
      "metadata": {
        "id": "5A5vHyFr5qln"
      },
      "outputs": [],
      "source": [
        "import pyaudio"
      ]
    },
    {
      "cell_type": "code",
      "execution_count": null,
      "metadata": {
        "id": "kyvmilSd5qln"
      },
      "outputs": [],
      "source": [
        "sr=s.Recognizer()"
      ]
    },
    {
      "cell_type": "code",
      "execution_count": null,
      "metadata": {
        "id": "DlqFotdy5qlo",
        "outputId": "108033d7-d97d-46dc-f578-96a2cf05616f"
      },
      "outputs": [
        {
          "name": "stdout",
          "output_type": "stream",
          "text": [
            "I am your script and Say anything\n",
            "Time over! Thanks\n",
            "TEXT:hello everyone I hope you are safe and healthy\n"
          ]
        }
      ],
      "source": [
        "with s.Microphone() as m:\n",
        "    print(\"I am your script and Say anything\")\n",
        "    audio=sr.listen(m)\n",
        "    print(\"Time over! Thanks\")\n",
        "    \n",
        "try:\n",
        "    print(\"TEXT:\"+sr.recognize_google(audio));\n",
        "except:\n",
        "    pass;"
      ]
    },
    {
      "cell_type": "code",
      "execution_count": null,
      "metadata": {
        "id": "HePq09UL5qlo"
      },
      "outputs": [],
      "source": [
        ""
      ]
    }
  ],
  "metadata": {
    "kernelspec": {
      "display_name": "Python 3",
      "language": "python",
      "name": "python3"
    },
    "language_info": {
      "codemirror_mode": {
        "name": "ipython",
        "version": 3
      },
      "file_extension": ".py",
      "mimetype": "text/x-python",
      "name": "python",
      "nbconvert_exporter": "python",
      "pygments_lexer": "ipython3",
      "version": "3.7.6"
    },
    "colab": {
      "name": "Major project-Speech to text conversion (2).ipynb",
      "provenance": []
    }
  },
  "nbformat": 4,
  "nbformat_minor": 0
}