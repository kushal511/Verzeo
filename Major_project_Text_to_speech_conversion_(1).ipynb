{
  "cells": [
    {
      "cell_type": "code",
      "execution_count": null,
      "metadata": {
        "id": "LZuBdidg4uvl"
      },
      "outputs": [],
      "source": [
        "### Convert Text to speech in Python"
      ]
    },
    {
      "cell_type": "code",
      "execution_count": null,
      "metadata": {
        "id": "KRfUXGaI4uvm",
        "outputId": "07096e6a-7d0c-4503-ac8d-87f944722585"
      },
      "outputs": [
        {
          "name": "stdout",
          "output_type": "stream",
          "text": [
            "Requirement already satisfied: gTTS in c:\\users\\kushal adhyaru\\anaconda3\\lib\\site-packages (2.1.1)\n",
            "Requirement already satisfied: requests in c:\\users\\kushal adhyaru\\anaconda3\\lib\\site-packages (from gTTS) (2.22.0)\n",
            "Requirement already satisfied: gtts-token>=1.1.3 in c:\\users\\kushal adhyaru\\anaconda3\\lib\\site-packages (from gTTS) (1.1.3)\n",
            "Requirement already satisfied: click in c:\\users\\kushal adhyaru\\anaconda3\\lib\\site-packages (from gTTS) (7.0)\n",
            "Requirement already satisfied: six in c:\\users\\kushal adhyaru\\anaconda3\\lib\\site-packages (from gTTS) (1.14.0)\n",
            "Requirement already satisfied: beautifulsoup4 in c:\\users\\kushal adhyaru\\anaconda3\\lib\\site-packages (from gTTS) (4.8.2)\n",
            "Requirement already satisfied: chardet<3.1.0,>=3.0.2 in c:\\users\\kushal adhyaru\\anaconda3\\lib\\site-packages (from requests->gTTS) (3.0.4)\n",
            "Requirement already satisfied: certifi>=2017.4.17 in c:\\users\\kushal adhyaru\\anaconda3\\lib\\site-packages (from requests->gTTS) (2019.11.28)\n",
            "Requirement already satisfied: urllib3!=1.25.0,!=1.25.1,<1.26,>=1.21.1 in c:\\users\\kushal adhyaru\\anaconda3\\lib\\site-packages (from requests->gTTS) (1.25.8)\n",
            "Requirement already satisfied: idna<2.9,>=2.5 in c:\\users\\kushal adhyaru\\anaconda3\\lib\\site-packages (from requests->gTTS) (2.8)\n",
            "Requirement already satisfied: soupsieve>=1.2 in c:\\users\\kushal adhyaru\\anaconda3\\lib\\site-packages (from beautifulsoup4->gTTS) (1.9.5)\n"
          ]
        }
      ],
      "source": [
        "!pip install gTTS"
      ]
    },
    {
      "cell_type": "code",
      "execution_count": null,
      "metadata": {
        "id": "bUGD5_sJ4uvn"
      },
      "outputs": [],
      "source": [
        "#import the module\n",
        "from gtts import gTTS"
      ]
    },
    {
      "cell_type": "code",
      "execution_count": null,
      "metadata": {
        "id": "TfCm_WBV4uvo"
      },
      "outputs": [],
      "source": [
        "#Text Data\n",
        "text= \"Discipline in Educational Institution: Discipline in schools generally means, “Orders and system in doing things, regularity and obedience to commands.” But discipline is not synonymous with class order. It should be identified with orderly behaviour in the classroom and other forms of school activities.\"\n"
      ]
    },
    {
      "cell_type": "code",
      "execution_count": null,
      "metadata": {
        "id": "lYX6ZBj04uvu",
        "outputId": "bd507dcc-add0-44f6-cc82-ef9058681d7c"
      },
      "outputs": [
        {
          "data": {
            "text/plain": [
              "'Discipline in Educational Institution: Discipline in schools generally means, “Orders and system in doing things, regularity and obedience to commands.” But discipline is not synonymous with class order. It should be identified with orderly behaviour in the classroom and other forms of school activities.'"
            ]
          },
          "execution_count": 5,
          "metadata": {},
          "output_type": "execute_result"
        }
      ],
      "source": [
        "text"
      ]
    },
    {
      "cell_type": "code",
      "execution_count": null,
      "metadata": {
        "id": "wquBp-E74uvv"
      },
      "outputs": [],
      "source": [
        "language='en'"
      ]
    },
    {
      "cell_type": "code",
      "execution_count": null,
      "metadata": {
        "id": "xwBorKxF4uvv"
      },
      "outputs": [],
      "source": [
        "# Passing the text data\n",
        "myobj=gTTS(text=text,lang=language,slow=False)"
      ]
    },
    {
      "cell_type": "code",
      "execution_count": null,
      "metadata": {
        "id": "qyMWs9sc4uvv"
      },
      "outputs": [],
      "source": [
        "myobj.save(\"demo.mp3\")"
      ]
    },
    {
      "cell_type": "code",
      "execution_count": null,
      "metadata": {
        "id": "TQPsMOBU4uvv"
      },
      "outputs": [],
      "source": [
        "import os"
      ]
    },
    {
      "cell_type": "code",
      "execution_count": null,
      "metadata": {
        "id": "JLtwyfiY4uvv",
        "outputId": "541fb927-1fae-4d9b-f6eb-7ad546733f99"
      },
      "outputs": [
        {
          "data": {
            "text/plain": [
              "1"
            ]
          },
          "execution_count": 10,
          "metadata": {},
          "output_type": "execute_result"
        }
      ],
      "source": [
        "os.system( \"mpg321 demo.mp3\")"
      ]
    }
  ],
  "metadata": {
    "kernelspec": {
      "display_name": "Python 3",
      "language": "python",
      "name": "python3"
    },
    "language_info": {
      "codemirror_mode": {
        "name": "ipython",
        "version": 3
      },
      "file_extension": ".py",
      "mimetype": "text/x-python",
      "name": "python",
      "nbconvert_exporter": "python",
      "pygments_lexer": "ipython3",
      "version": "3.7.6"
    },
    "colab": {
      "name": "Major project-Text to speech conversion  (1).ipynb",
      "provenance": []
    }
  },
  "nbformat": 4,
  "nbformat_minor": 0
}